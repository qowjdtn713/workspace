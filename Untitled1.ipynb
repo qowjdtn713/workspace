{
 "cells": [
  {
   "cell_type": "code",
   "execution_count": null,
   "id": "b4ecd220-2ec0-4ad1-8f1c-e0d284344a73",
   "metadata": {},
   "outputs": [],
   "source": []
  },
  {
   "cell_type": "code",
   "execution_count": 65,
   "id": "124733fd-cd0a-4da8-ac10-7f605e083208",
   "metadata": {},
   "outputs": [
    {
     "data": {
      "text/plain": [
       "7"
      ]
     },
     "execution_count": 65,
     "metadata": {},
     "output_type": "execute_result"
    }
   ],
   "source": [
    "import random\n",
    "\n",
    "random.randrange(45)"
   ]
  },
  {
   "cell_type": "code",
   "execution_count": 78,
   "id": "76628698-d55a-426f-8f41-d16b3a557a92",
   "metadata": {},
   "outputs": [
    {
     "name": "stdout",
     "output_type": "stream",
     "text": [
      "2\n",
      "[7, 9]\n"
     ]
    }
   ],
   "source": [
    "list1 = [2, 3, 5, 7, 9]\n",
    "# 5라는 값을 가지고 오고 싶다\n",
    "print(list1[0])\n",
    "print(list1[3:])"
   ]
  },
  {
   "cell_type": "code",
   "execution_count": 79,
   "id": "5601647c-a994-472c-9b69-18047d46e76b",
   "metadata": {},
   "outputs": [],
   "source": [
    "# b : bottom cell 추가\n",
    "# a : above cell 추가\n",
    "# dd : 삭제"
   ]
  },
  {
   "cell_type": "code",
   "execution_count": 87,
   "id": "2cea1114-65b7-42d1-ba7f-ea390c172fd2",
   "metadata": {},
   "outputs": [
    {
     "name": "stdout",
     "output_type": "stream",
     "text": [
      "list[1]\n",
      "b\n"
     ]
    }
   ],
   "source": [
    "list2 = [1, 2, 3, ['a', 'b', 'c']]\n",
    "# 2\n",
    "print(list[1])\n",
    "# b\n",
    "print(list2[3][1])"
   ]
  },
  {
   "cell_type": "code",
   "execution_count": 94,
   "id": "316ec28b-bf59-4f34-8263-02dffbc7a274",
   "metadata": {},
   "outputs": [
    {
     "name": "stdout",
     "output_type": "stream",
     "text": [
      "[1, 2, 3, 4, 5, 6]\n"
     ]
    }
   ],
   "source": [
    "list3 = [1, 2, 3]\n",
    "list4 = [4, 5, 6]\n",
    "list5 = list3 + list4\n",
    "print(list5)"
   ]
  },
  {
   "cell_type": "code",
   "execution_count": 95,
   "id": "877a54e4-a26e-4a96-8ff6-b22bfafa7d60",
   "metadata": {},
   "outputs": [
    {
     "name": "stdout",
     "output_type": "stream",
     "text": [
      "[1, 2, 3, 4, 5, 6, 7]\n"
     ]
    }
   ],
   "source": [
    "# list5에 마지막 위치에 7이라는 값을 추가\n",
    "# 리스트명.append(값)\n",
    "list5.append(7)\n",
    "print(list5)"
   ]
  },
  {
   "cell_type": "code",
   "execution_count": 96,
   "id": "8c1252ca-9dd0-4809-9022-a36f0c2ac756",
   "metadata": {},
   "outputs": [
    {
     "name": "stdout",
     "output_type": "stream",
     "text": [
      "[1, 2, 99, 3, 4, 5, 6, 7]\n"
     ]
    }
   ],
   "source": [
    "# list5에 index 2 위치에 99라는 값 추가!!\n",
    "# 리스트명.insert(인덱스, 값)\n",
    "list5.insert(2, 99)\n",
    "print(list5)"
   ]
  },
  {
   "cell_type": "code",
   "execution_count": 100,
   "id": "b1b6c5f5-19a6-448e-8df2-b3ed5b585c16",
   "metadata": {},
   "outputs": [
    {
     "name": "stdout",
     "output_type": "stream",
     "text": [
      "[1, 2, 100, 3, 4, 5, 6, 7]\n"
     ]
    }
   ],
   "source": [
    "# 해당 요소에 직접 접근하여 값 수정 가능\n",
    "list5[2] = 100\n",
    "print(list5)"
   ]
  },
  {
   "cell_type": "code",
   "execution_count": 101,
   "id": "1caf4dd8-ac25-4035-9985-38eae998f740",
   "metadata": {},
   "outputs": [
    {
     "name": "stdout",
     "output_type": "stream",
     "text": [
      "[1, 2, 3, 4, 5, 6, 7]\n"
     ]
    }
   ],
   "source": [
    "# 리스트 값 삭제\n",
    "# del\n",
    "del list5[2]\n",
    "print(list5)"
   ]
  },
  {
   "cell_type": "code",
   "execution_count": 103,
   "id": "58318fce-169d-48eb-84d7-bdb524be058a",
   "metadata": {},
   "outputs": [
    {
     "name": "stdout",
     "output_type": "stream",
     "text": [
      "[1, 3, 4, 5, 6, 7]\n"
     ]
    }
   ],
   "source": [
    "# 리스트 값 삭제 2\n",
    "# 리스트명.remove(값)\n",
    "list5.remove(2)\n",
    "print(list5)"
   ]
  },
  {
   "cell_type": "code",
   "execution_count": 106,
   "id": "13256db8-9cff-4ca4-9642-a1362ebb890e",
   "metadata": {},
   "outputs": [
    {
     "name": "stdout",
     "output_type": "stream",
     "text": [
      "[1, 3, 7, 7, 7, 4, 5, 6, 7]\n"
     ]
    }
   ],
   "source": [
    "list5.insert(2, 7)\n",
    "print(list5)"
   ]
  },
  {
   "cell_type": "code",
   "execution_count": 110,
   "id": "9d8283e0-6bcc-4ad1-8a4b-81d87c195739",
   "metadata": {},
   "outputs": [
    {
     "name": "stdout",
     "output_type": "stream",
     "text": [
      "[1, 3, 4, 5, 6]\n"
     ]
    }
   ],
   "source": [
    "list5.remove(7)\n",
    "print(list5)"
   ]
  },
  {
   "cell_type": "code",
   "execution_count": 111,
   "id": "0074d3cc-6d07-4a95-beb9-58c980c9347c",
   "metadata": {},
   "outputs": [
    {
     "ename": "ValueError",
     "evalue": "list.remove(x): x not in list",
     "output_type": "error",
     "traceback": [
      "\u001b[1;31m---------------------------------------------------------------------------\u001b[0m",
      "\u001b[1;31mValueError\u001b[0m                                Traceback (most recent call last)",
      "Cell \u001b[1;32mIn[111], line 1\u001b[0m\n\u001b[1;32m----> 1\u001b[0m \u001b[43mlist5\u001b[49m\u001b[38;5;241;43m.\u001b[39;49m\u001b[43mremove\u001b[49m\u001b[43m(\u001b[49m\u001b[38;5;241;43m9999\u001b[39;49m\u001b[43m)\u001b[49m\n\u001b[0;32m      2\u001b[0m \u001b[38;5;28mprint\u001b[39m(list5)\n",
      "\u001b[1;31mValueError\u001b[0m: list.remove(x): x not in list"
     ]
    }
   ],
   "source": [
    "list5.remove(9999)\n",
    "print(list5)"
   ]
  },
  {
   "cell_type": "code",
   "execution_count": 112,
   "id": "2be70a14-aa2f-4b1e-95e8-3d0e276e7902",
   "metadata": {},
   "outputs": [
    {
     "name": "stdout",
     "output_type": "stream",
     "text": [
      "[10, 11, 27, 33, 45, 99]\n"
     ]
    }
   ],
   "source": [
    "list6 = [33, 27, 11, 10, 45, 99]\n",
    "# 오름차순 정렬\n",
    "# 리스트명.sort()\n",
    "list6.sort()\n",
    "print(list6)"
   ]
  },
  {
   "cell_type": "code",
   "execution_count": 117,
   "id": "ea3da200-46eb-4064-86c8-ecd8e2bebc06",
   "metadata": {},
   "outputs": [
    {
     "name": "stdout",
     "output_type": "stream",
     "text": [
      "[99, 45, 33, 27, 11, 10]\n"
     ]
    }
   ],
   "source": [
    "# 요소 순서 뒤집기\n",
    "# 리스트명.reverse()\n",
    "list6.reverse()\n",
    "print(list6)"
   ]
  },
  {
   "cell_type": "code",
   "execution_count": 119,
   "id": "4566d6bd-d1e5-48cc-a22f-8baf740fe796",
   "metadata": {},
   "outputs": [
    {
     "name": "stdout",
     "output_type": "stream",
     "text": [
      "1\n"
     ]
    }
   ],
   "source": [
    "# 요소의 인덱스 값 반환\n",
    "# 리스트명.index(요소 값)\n",
    "print(list6.index(45))"
   ]
  },
  {
   "cell_type": "code",
   "execution_count": 121,
   "id": "5a5b87d8-fd6e-4e15-94d0-779ebb396eba",
   "metadata": {},
   "outputs": [
    {
     "name": "stdout",
     "output_type": "stream",
     "text": [
      "[99, 45, 33, 27]\n"
     ]
    }
   ],
   "source": [
    "# 마지막 값 삭제\n",
    "# 리스트명.pop()\n",
    "list6.pop()\n",
    "print(list6)"
   ]
  },
  {
   "cell_type": "code",
   "execution_count": 123,
   "id": "0dab49bd-6567-4ef2-a194-05bc3aa7031c",
   "metadata": {},
   "outputs": [
    {
     "name": "stdout",
     "output_type": "stream",
     "text": [
      "4\n"
     ]
    }
   ],
   "source": [
    "# 리스트 길이(크기)\n",
    "# len(리스트명)\n",
    "print(len(list6))"
   ]
  },
  {
   "cell_type": "code",
   "execution_count": 124,
   "id": "65d08924-09f1-4e85-9086-e8e4019e66bf",
   "metadata": {},
   "outputs": [
    {
     "name": "stdout",
     "output_type": "stream",
     "text": [
      "(1, 2, 3)\n"
     ]
    }
   ],
   "source": [
    "tuple1 = (1, 2, 3)\n",
    "print(tuple1)"
   ]
  },
  {
   "cell_type": "code",
   "execution_count": 126,
   "id": "1274525f-a8b5-423d-9433-310e2822e4ff",
   "metadata": {},
   "outputs": [
    {
     "name": "stdout",
     "output_type": "stream",
     "text": [
      "2\n"
     ]
    }
   ],
   "source": [
    "print(tuple1[1])"
   ]
  },
  {
   "cell_type": "code",
   "execution_count": 127,
   "id": "a60f204e-7bff-403c-bedb-0b08d215b484",
   "metadata": {},
   "outputs": [
    {
     "name": "stdout",
     "output_type": "stream",
     "text": [
      "b\n"
     ]
    }
   ],
   "source": [
    "tuple2 = (1, 2, 3, ('a', 'b', 'c'))\n",
    "print(tuple2[3][1])"
   ]
  },
  {
   "cell_type": "code",
   "execution_count": 143,
   "id": "3766fe55-ae11-4079-b76b-ff5828f1ef39",
   "metadata": {},
   "outputs": [
    {
     "name": "stdout",
     "output_type": "stream",
     "text": [
      "True\n",
      "True\n",
      "True\n"
     ]
    }
   ],
   "source": [
    "print(99 in list6)\n",
    "print(2 in tuple2)\n",
    "print(100 not in list6)"
   ]
  },
  {
   "cell_type": "code",
   "execution_count": 144,
   "id": "238938c1-653d-4bd4-a7ee-ae44fe18bcb6",
   "metadata": {
    "collapsed": true,
    "jupyter": {
     "outputs_hidden": true
    }
   },
   "outputs": [
    {
     "name": "stdout",
     "output_type": "stream",
     "text": [
      "1\n",
      "2\n",
      "3\n",
      "4\n",
      "5\n",
      "6\n",
      "7\n",
      "8\n",
      "9\n",
      "10\n",
      "11\n",
      "12\n",
      "13\n",
      "14\n",
      "15\n",
      "16\n",
      "17\n",
      "18\n",
      "19\n",
      "20\n",
      "21\n",
      "22\n",
      "23\n",
      "24\n",
      "25\n",
      "26\n",
      "27\n",
      "28\n",
      "29\n",
      "30\n",
      "31\n",
      "32\n",
      "33\n",
      "34\n",
      "35\n",
      "36\n",
      "37\n",
      "38\n",
      "39\n",
      "40\n",
      "41\n",
      "42\n",
      "43\n",
      "44\n",
      "45\n",
      "46\n",
      "47\n",
      "48\n",
      "49\n",
      "50\n",
      "51\n",
      "52\n",
      "53\n",
      "54\n",
      "55\n",
      "56\n",
      "57\n",
      "58\n",
      "59\n",
      "60\n",
      "61\n",
      "62\n",
      "63\n",
      "64\n",
      "65\n",
      "66\n",
      "67\n",
      "68\n",
      "69\n",
      "70\n",
      "71\n",
      "72\n",
      "73\n",
      "74\n",
      "75\n",
      "76\n",
      "77\n",
      "78\n",
      "79\n",
      "80\n",
      "81\n",
      "82\n",
      "83\n",
      "84\n",
      "85\n",
      "86\n",
      "87\n",
      "88\n",
      "89\n",
      "90\n",
      "91\n",
      "92\n",
      "93\n",
      "94\n",
      "95\n",
      "96\n",
      "97\n",
      "98\n",
      "99\n",
      "100\n"
     ]
    }
   ],
   "source": [
    "# range(시작값, 끝값 미만, 증가량)\n",
    "# range(1, 100, 1)\n",
    "# -> 1, 2, 3, ..., 99\n",
    "\n",
    "# range(시작값, 끝값 미만)\n",
    "# 증가량 : 1로 기본 설정\n",
    "# range(1, 100)\n",
    "# -> 1, 2, 3, ..., 99\n",
    "\n",
    "# range(끝값)\n",
    "# 증가량 : 1로 기본 설정\n",
    "# 시작값 : 0부터 출발\n",
    "# range(100)\n",
    "# -> 0, 1, 2, ..., 99\n",
    "for i in range(1, 101):\n",
    "    print(i)"
   ]
  },
  {
   "cell_type": "code",
   "execution_count": 149,
   "id": "6df77b33-1a5d-4722-adeb-dfb1283b5a09",
   "metadata": {},
   "outputs": [
    {
     "name": "stdout",
     "output_type": "stream",
     "text": [
      "23\t24\t25\t26\t27\t28\t29\t30\t31\t32\t33\t34\t35\t36\t37\t38\t39\t40\t41\t42\t43\t44\t45\t46\t47\t48\t49\t50\t51\t52\t53\t54\t55\t56\t57\t"
     ]
    }
   ],
   "source": [
    "# 23 ~ 57 까지 출력\n",
    "for i in range(23, 57+1):\n",
    "    print(i, end='\\t')\n"
   ]
  },
  {
   "cell_type": "code",
   "execution_count": 150,
   "id": "b0e44c73-954f-45c8-99e5-4fd005a723e9",
   "metadata": {},
   "outputs": [],
   "source": [
    "# 사용자로부터 정수를 입력받는다\n",
    "# 입력받은 정수의 합을 계속해서 출력!!\n",
    "# 만약, 사용자가 -1을 입력하면\n",
    "# '종료되었습니다' 문구와 함께 입력 종료"
   ]
  },
  {
   "cell_type": "code",
   "execution_count": 159,
   "id": "ac813158-27d7-477f-90d0-89de727f00a7",
   "metadata": {},
   "outputs": [
    {
     "name": "stdout",
     "output_type": "stream",
     "text": [
      "정수를 입력하세요 30\n"
     ]
    },
    {
     "name": "stdout",
     "output_type": "stream",
     "text": [
      "30\n"
     ]
    },
    {
     "name": "stdout",
     "output_type": "stream",
     "text": [
      "정수를 입력하세요 0\n"
     ]
    },
    {
     "name": "stdout",
     "output_type": "stream",
     "text": [
      "30\n"
     ]
    },
    {
     "name": "stdout",
     "output_type": "stream",
     "text": [
      "정수를 입력하세요 20\n"
     ]
    },
    {
     "name": "stdout",
     "output_type": "stream",
     "text": [
      "50\n"
     ]
    },
    {
     "name": "stdout",
     "output_type": "stream",
     "text": [
      "정수를 입력하세요 30\n"
     ]
    },
    {
     "name": "stdout",
     "output_type": "stream",
     "text": [
      "80\n"
     ]
    },
    {
     "name": "stdout",
     "output_type": "stream",
     "text": [
      "정수를 입력하세요 50\n"
     ]
    },
    {
     "name": "stdout",
     "output_type": "stream",
     "text": [
      "130\n"
     ]
    },
    {
     "name": "stdout",
     "output_type": "stream",
     "text": [
      "정수를 입력하세요 506\n"
     ]
    },
    {
     "name": "stdout",
     "output_type": "stream",
     "text": [
      "636\n"
     ]
    },
    {
     "name": "stdout",
     "output_type": "stream",
     "text": [
      "정수를 입력하세요 0562\n"
     ]
    },
    {
     "name": "stdout",
     "output_type": "stream",
     "text": [
      "1198\n"
     ]
    },
    {
     "name": "stdout",
     "output_type": "stream",
     "text": [
      "정수를 입력하세요 3\n"
     ]
    },
    {
     "name": "stdout",
     "output_type": "stream",
     "text": [
      "1201\n"
     ]
    },
    {
     "name": "stdout",
     "output_type": "stream",
     "text": [
      "정수를 입력하세요 345\n"
     ]
    },
    {
     "name": "stdout",
     "output_type": "stream",
     "text": [
      "1546\n"
     ]
    },
    {
     "name": "stdout",
     "output_type": "stream",
     "text": [
      "정수를 입력하세요 \n"
     ]
    },
    {
     "ename": "ValueError",
     "evalue": "invalid literal for int() with base 10: ''",
     "output_type": "error",
     "traceback": [
      "\u001b[1;31m---------------------------------------------------------------------------\u001b[0m",
      "\u001b[1;31mValueError\u001b[0m                                Traceback (most recent call last)",
      "Cell \u001b[1;32mIn[159], line 4\u001b[0m\n\u001b[0;32m      1\u001b[0m add \u001b[38;5;241m=\u001b[39m \u001b[38;5;241m0\u001b[39m\n\u001b[0;32m      3\u001b[0m \u001b[38;5;28;01mwhile\u001b[39;00m \u001b[38;5;28;01mTrue\u001b[39;00m:\n\u001b[1;32m----> 4\u001b[0m     num \u001b[38;5;241m=\u001b[39m \u001b[38;5;28;43mint\u001b[39;49m\u001b[43m(\u001b[49m\u001b[38;5;28;43minput\u001b[39;49m\u001b[43m(\u001b[49m\u001b[38;5;124;43m'\u001b[39;49m\u001b[38;5;124;43m정수를 입력하세요\u001b[39;49m\u001b[38;5;124;43m'\u001b[39;49m\u001b[43m)\u001b[49m\u001b[43m)\u001b[49m\n\u001b[0;32m      5\u001b[0m     \u001b[38;5;28;01mif\u001b[39;00m num \u001b[38;5;241m==\u001b[39m \u001b[38;5;241m-\u001b[39m\u001b[38;5;241m1\u001b[39m:\n\u001b[0;32m      6\u001b[0m         \u001b[38;5;28;01mbreak\u001b[39;00m\n",
      "\u001b[1;31mValueError\u001b[0m: invalid literal for int() with base 10: ''"
     ]
    }
   ],
   "source": [
    "add = 0\n",
    "\n",
    "while True:\n",
    "    num = int(input('정수를 입력하세요'))\n",
    "    if num == -1:\n",
    "        break\n",
    "    add += num\n",
    "    print(add)\n",
    "print('종료되었습니다')"
   ]
  },
  {
   "cell_type": "code",
   "execution_count": 164,
   "id": "4f8bd2d6-8e89-43ad-803c-1ed2515ec667",
   "metadata": {},
   "outputs": [
    {
     "name": "stdout",
     "output_type": "stream",
     "text": [
      "현재 몸무게를 입력하세요 : 70\n",
      "목표 몸무게를 입력하세요 : 60\n",
      "1주차 감량 몸무게를 입력하세요 : 5\n",
      "2주차 감량 몸무게를 입력하세요 : 5\n"
     ]
    },
    {
     "name": "stdout",
     "output_type": "stream",
     "text": [
      "60kg 달성!! 축하합니다!\n"
     ]
    }
   ],
   "source": [
    "current_weight = int(input('현재 몸무게를 입력하세요 :'))\n",
    "goal_weight = int(input('목표 몸무게를 입력하세요 :'))\n",
    "week = 0\n",
    "\n",
    "while True:\n",
    "    week +=1\n",
    "    loss_weight = int(input('%d주차 감량 몸무게를 입력하세요 :'%week))\n",
    "    # loss_weight = int(input('{}주차 감량 몸무게를 입력하세요 :'.format(week)))\n",
    "    # loss_weight = int(input(f'{week}주차 감량 몸무게를 입력하세요 :'))\n",
    "    current_weight -= loss_weight\n",
    "    \n",
    "    if current_weight <= goal_weight:\n",
    "        print(f'{current_weight}kg 달성!! 축하합니다!')\n",
    "        break"
   ]
  },
  {
   "cell_type": "code",
   "execution_count": 165,
   "id": "62e7c79d-6f85-4ef4-b8a5-2b8ebf83a100",
   "metadata": {},
   "outputs": [],
   "source": [
    "import random\n",
    "# random.randint(시작값, 끝값) : 시작값 ~ 끝값 난수 반환\n",
    "# random.rangrange(끝값) : 0 ~ 끝값 미만 난수 반환"
   ]
  },
  {
   "cell_type": "code",
   "execution_count": 379,
   "id": "fbb1f998-3f65-47d0-b2d9-68c0198b7cae",
   "metadata": {},
   "outputs": [],
   "source": [
    "# 1 ~ 100까지 숫자 중 랜덤으로 하나 뽑아서\n",
    "# number에 저장\n",
    "number = random.randint(1,100)\n",
    "# print(number)\n",
    "\n",
    "# 사용자로부터 계속 입력받는다\n",
    "# 만약, 입력받은 숫자가 number보다 크다면!!\n",
    "# 입력한 숫자보다 작습니다!!\n",
    "# 만약, 입력받은 숫자가 number보다 작다면!!\n",
    "# 입력한 숫자보다 큽니다!!\n",
    "# 만약, 정답을 입력하면\n",
    "# '정답입니다' 문구와 함께 종료"
   ]
  },
  {
   "cell_type": "code",
   "execution_count": 431,
   "id": "f35dc911-dd48-4e15-b0ac-f86231351c9c",
   "metadata": {},
   "outputs": [
    {
     "name": "stdout",
     "output_type": "stream",
     "text": [
      "숫자를 입력하세요 1\n"
     ]
    },
    {
     "name": "stdout",
     "output_type": "stream",
     "text": [
      "정답입니다\n"
     ]
    }
   ],
   "source": [
    "# 사용자로부터 계속 입력받는다\n",
    "# 만약, 입력받은 숫자가 number보다 크다면!!\n",
    "# 입력한 숫자보다 작습니다!!\n",
    "# 만약, 입력받은 숫자가 number보다 작다면!!\n",
    "# 입력한 숫자보다 큽니다!!\n",
    "# 만약, 정답을 입력하면\n",
    "# '정답입니다' 문구와 함께 종료\n",
    "\n",
    "number = random.randint(1,100)\n",
    "# 사용자로부터 계속 입력받는다\n",
    "while True:\n",
    "    input_number = int(input('숫자를 입력하세요'))\n",
    "    # 만약, 입력받은 숫자가 number보다 크다면!!\n",
    "    if input_number > number:\n",
    "        # 입력한 숫자보다 작습니다!!\n",
    "        print('입력한 숫자보다 작습니다!!')\n",
    "    # 만약, 입력받은 숫자가 number보다 작다면!!\n",
    "    elif number < input_number:\n",
    "        # 입력한 숫자보다 큽니다!!\n",
    "        print('입력한 숫자보다 큽니다!!')\n",
    "    # 만약, 정답을 입력하면\n",
    "    else:\n",
    "        # '정답입니다' 문구와 함께 종료\n",
    "        print('정답입니다')\n",
    "        break"
   ]
  },
  {
   "cell_type": "code",
   "execution_count": 465,
   "id": "bedb8432-12f0-4cf3-be08-30005e4decac",
   "metadata": {},
   "outputs": [
    {
     "name": "stdout",
     "output_type": "stream",
     "text": [
      "74\n"
     ]
    },
    {
     "name": "stdout",
     "output_type": "stream",
     "text": [
      "정수 입력 : 50\n"
     ]
    },
    {
     "name": "stdout",
     "output_type": "stream",
     "text": [
      "정답입니다\n"
     ]
    }
   ],
   "source": [
    "##### 1 ~ 100까지 숫자 중 랜덤으로 하나 뽑아서\n",
    "# number에 저장\n",
    "number_d = random.randint(1, 100)\n",
    "print(number_d)\n",
    "\n",
    "# 사용자로부터 계속 입력받는다\n",
    "while True:\n",
    "    input_number = int(input('정수 입력 :'))\n",
    "    # 만약, 입력받은 숫자가 number보다 크다면!! \n",
    "    if input_number > number_d:\n",
    "        # 입력한 숫자보다 작습니다!!\n",
    "        print('입력한 숫자보다 작습니다!!')\n",
    "    # 만약, 입력받은 숫자가 number보다 작다면!! \n",
    "    elif number_d < input_number:\n",
    "        # 입력한 숫자보다 큽니다!!\n",
    "        print('입력한 숫자보다 큽니다!!')\n",
    "    # 만약, 정답을 입력하면\n",
    "    else:\n",
    "        # '정답입니다' 문구와 함께 종료\n",
    "        print('정답입니다')\n",
    "        break"
   ]
  },
  {
   "cell_type": "code",
   "execution_count": 463,
   "id": "a81d1a92-e656-4b2f-aa3b-3de905949648",
   "metadata": {},
   "outputs": [
    {
     "name": "stdout",
     "output_type": "stream",
     "text": [
      "66\n"
     ]
    },
    {
     "name": "stdout",
     "output_type": "stream",
     "text": [
      "정수 입력 : 50\n"
     ]
    },
    {
     "name": "stdout",
     "output_type": "stream",
     "text": [
      "입력한 숫자보다 큽니다!!\n"
     ]
    },
    {
     "ename": "KeyboardInterrupt",
     "evalue": "Interrupted by user",
     "output_type": "error",
     "traceback": [
      "\u001b[1;31m---------------------------------------------------------------------------\u001b[0m",
      "\u001b[1;31mKeyboardInterrupt\u001b[0m                         Traceback (most recent call last)",
      "Cell \u001b[1;32mIn[463], line 8\u001b[0m\n\u001b[0;32m      6\u001b[0m \u001b[38;5;66;03m# 사용자로부터 계속 입력받는다\u001b[39;00m\n\u001b[0;32m      7\u001b[0m \u001b[38;5;28;01mwhile\u001b[39;00m \u001b[38;5;28;01mTrue\u001b[39;00m:\n\u001b[1;32m----> 8\u001b[0m     input_number \u001b[38;5;241m=\u001b[39m \u001b[38;5;28mint\u001b[39m(\u001b[38;5;28;43minput\u001b[39;49m\u001b[43m(\u001b[49m\u001b[38;5;124;43m'\u001b[39;49m\u001b[38;5;124;43m정수 입력 :\u001b[39;49m\u001b[38;5;124;43m'\u001b[39;49m\u001b[43m)\u001b[49m)\n\u001b[0;32m      9\u001b[0m     \u001b[38;5;66;03m# 만약, 입력받은 숫자가 number보다 크다면!! \u001b[39;00m\n\u001b[0;32m     10\u001b[0m     \u001b[38;5;28;01mif\u001b[39;00m input_number \u001b[38;5;241m>\u001b[39m tntwk:\n\u001b[0;32m     11\u001b[0m         \u001b[38;5;66;03m# 입력한 숫자보다 작습니다!!\u001b[39;00m\n",
      "File \u001b[1;32mC:\\ProgramData\\anaconda3\\envs\\myenv\\Lib\\site-packages\\ipykernel\\kernelbase.py:1282\u001b[0m, in \u001b[0;36mKernel.raw_input\u001b[1;34m(self, prompt)\u001b[0m\n\u001b[0;32m   1280\u001b[0m     msg \u001b[38;5;241m=\u001b[39m \u001b[38;5;124m\"\u001b[39m\u001b[38;5;124mraw_input was called, but this frontend does not support input requests.\u001b[39m\u001b[38;5;124m\"\u001b[39m\n\u001b[0;32m   1281\u001b[0m     \u001b[38;5;28;01mraise\u001b[39;00m StdinNotImplementedError(msg)\n\u001b[1;32m-> 1282\u001b[0m \u001b[38;5;28;01mreturn\u001b[39;00m \u001b[38;5;28;43mself\u001b[39;49m\u001b[38;5;241;43m.\u001b[39;49m\u001b[43m_input_request\u001b[49m\u001b[43m(\u001b[49m\n\u001b[0;32m   1283\u001b[0m \u001b[43m    \u001b[49m\u001b[38;5;28;43mstr\u001b[39;49m\u001b[43m(\u001b[49m\u001b[43mprompt\u001b[49m\u001b[43m)\u001b[49m\u001b[43m,\u001b[49m\n\u001b[0;32m   1284\u001b[0m \u001b[43m    \u001b[49m\u001b[38;5;28;43mself\u001b[39;49m\u001b[38;5;241;43m.\u001b[39;49m\u001b[43m_parent_ident\u001b[49m\u001b[43m[\u001b[49m\u001b[38;5;124;43m\"\u001b[39;49m\u001b[38;5;124;43mshell\u001b[39;49m\u001b[38;5;124;43m\"\u001b[39;49m\u001b[43m]\u001b[49m\u001b[43m,\u001b[49m\n\u001b[0;32m   1285\u001b[0m \u001b[43m    \u001b[49m\u001b[38;5;28;43mself\u001b[39;49m\u001b[38;5;241;43m.\u001b[39;49m\u001b[43mget_parent\u001b[49m\u001b[43m(\u001b[49m\u001b[38;5;124;43m\"\u001b[39;49m\u001b[38;5;124;43mshell\u001b[39;49m\u001b[38;5;124;43m\"\u001b[39;49m\u001b[43m)\u001b[49m\u001b[43m,\u001b[49m\n\u001b[0;32m   1286\u001b[0m \u001b[43m    \u001b[49m\u001b[43mpassword\u001b[49m\u001b[38;5;241;43m=\u001b[39;49m\u001b[38;5;28;43;01mFalse\u001b[39;49;00m\u001b[43m,\u001b[49m\n\u001b[0;32m   1287\u001b[0m \u001b[43m\u001b[49m\u001b[43m)\u001b[49m\n",
      "File \u001b[1;32mC:\\ProgramData\\anaconda3\\envs\\myenv\\Lib\\site-packages\\ipykernel\\kernelbase.py:1325\u001b[0m, in \u001b[0;36mKernel._input_request\u001b[1;34m(self, prompt, ident, parent, password)\u001b[0m\n\u001b[0;32m   1322\u001b[0m \u001b[38;5;28;01mexcept\u001b[39;00m \u001b[38;5;167;01mKeyboardInterrupt\u001b[39;00m:\n\u001b[0;32m   1323\u001b[0m     \u001b[38;5;66;03m# re-raise KeyboardInterrupt, to truncate traceback\u001b[39;00m\n\u001b[0;32m   1324\u001b[0m     msg \u001b[38;5;241m=\u001b[39m \u001b[38;5;124m\"\u001b[39m\u001b[38;5;124mInterrupted by user\u001b[39m\u001b[38;5;124m\"\u001b[39m\n\u001b[1;32m-> 1325\u001b[0m     \u001b[38;5;28;01mraise\u001b[39;00m \u001b[38;5;167;01mKeyboardInterrupt\u001b[39;00m(msg) \u001b[38;5;28;01mfrom\u001b[39;00m\u001b[38;5;250m \u001b[39m\u001b[38;5;28;01mNone\u001b[39;00m\n\u001b[0;32m   1326\u001b[0m \u001b[38;5;28;01mexcept\u001b[39;00m \u001b[38;5;167;01mException\u001b[39;00m:\n\u001b[0;32m   1327\u001b[0m     \u001b[38;5;28mself\u001b[39m\u001b[38;5;241m.\u001b[39mlog\u001b[38;5;241m.\u001b[39mwarning(\u001b[38;5;124m\"\u001b[39m\u001b[38;5;124mInvalid Message:\u001b[39m\u001b[38;5;124m\"\u001b[39m, exc_info\u001b[38;5;241m=\u001b[39m\u001b[38;5;28;01mTrue\u001b[39;00m)\n",
      "\u001b[1;31mKeyboardInterrupt\u001b[0m: Interrupted by user"
     ]
    }
   ],
   "source": [
    "# 1 ~ 100까지 숫자 중 랜덤으로 하나 뽑아서\n",
    "# number에 저장\n",
    "tntwk = random.randint(1, 100)\n",
    "print(tntwk)\n",
    "\n",
    "# 사용자로부터 계속 입력받는다\n",
    "while True:\n",
    "    input_number = int(input('정수 입력 :'))\n",
    "    # 만약, 입력받은 숫자가 number보다 크다면!! \n",
    "    if input_number > tntwk:\n",
    "        # 입력한 숫자보다 작습니다!!\n",
    "        print('입력한 숫자보다 작습니다!!')\n",
    "    # 만약, 입력받은 숫자가 number보다 작다면!! \n",
    "    elif input_number < tntwk:\n",
    "        # 입력한 숫자보다 큽니다!!\n",
    "        print('입력한 숫자보다 큽니다!!')\n",
    "    # 만약, 정답을 입력하면\n",
    "    else:\n",
    "        # '정답입니다' 문구와 함께 종료\n",
    "        print('정답입니다')"
   ]
  },
  {
   "cell_type": "code",
   "execution_count": 434,
   "id": "b68e23b2-c9e7-40c1-bd0c-6a858fbd2071",
   "metadata": {},
   "outputs": [
    {
     "name": "stdout",
     "output_type": "stream",
     "text": [
      "도시락\n",
      "닭칼국수\n",
      "마라탕\n",
      "햄버거\n"
     ]
    }
   ],
   "source": [
    "menu = ['도시락', '닭칼국수', '마라탕', '햄버거']\n",
    "\n",
    "for i in range(4):\n",
    "    print(menu[i])"
   ]
  },
  {
   "cell_type": "code",
   "execution_count": 447,
   "id": "3233daf4-b488-4973-a562-aa8610417797",
   "metadata": {},
   "outputs": [
    {
     "name": "stdout",
     "output_type": "stream",
     "text": [
      "안\n",
      "녕\n",
      "하\n",
      "세\n",
      "요\n"
     ]
    }
   ],
   "source": [
    "s = '안녕하세요'\n",
    "for letter in s:\n",
    "    print(letter)"
   ]
  },
  {
   "cell_type": "code",
   "execution_count": 471,
   "id": "84da1846-744d-4a2e-895c-1a34315d8d8b",
   "metadata": {
    "collapsed": true,
    "jupyter": {
     "outputs_hidden": true
    }
   },
   "outputs": [
    {
     "name": "stdout",
     "output_type": "stream",
     "text": [
      "2 x 1 = 2\n",
      "2 x 2 = 4\n",
      "2 x 3 = 6\n",
      "2 x 4 = 8\n",
      "2 x 5 = 10\n",
      "2 x 6 = 12\n",
      "2 x 7 = 14\n",
      "2 x 8 = 16\n",
      "2 x 9 = 18\n",
      "3 x 1 = 3\n",
      "3 x 2 = 6\n",
      "3 x 3 = 9\n",
      "3 x 4 = 12\n",
      "3 x 5 = 15\n",
      "3 x 6 = 18\n",
      "3 x 7 = 21\n",
      "3 x 8 = 24\n",
      "3 x 9 = 27\n",
      "4 x 1 = 4\n",
      "4 x 2 = 8\n",
      "4 x 3 = 12\n",
      "4 x 4 = 16\n",
      "4 x 5 = 20\n",
      "4 x 6 = 24\n",
      "4 x 7 = 28\n",
      "4 x 8 = 32\n",
      "4 x 9 = 36\n",
      "5 x 1 = 5\n",
      "5 x 2 = 10\n",
      "5 x 3 = 15\n",
      "5 x 4 = 20\n",
      "5 x 5 = 25\n",
      "5 x 6 = 30\n",
      "5 x 7 = 35\n",
      "5 x 8 = 40\n",
      "5 x 9 = 45\n",
      "6 x 1 = 6\n",
      "6 x 2 = 12\n",
      "6 x 3 = 18\n",
      "6 x 4 = 24\n",
      "6 x 5 = 30\n",
      "6 x 6 = 36\n",
      "6 x 7 = 42\n",
      "6 x 8 = 48\n",
      "6 x 9 = 54\n",
      "7 x 1 = 7\n",
      "7 x 2 = 14\n",
      "7 x 3 = 21\n",
      "7 x 4 = 28\n",
      "7 x 5 = 35\n",
      "7 x 6 = 42\n",
      "7 x 7 = 49\n",
      "7 x 8 = 56\n",
      "7 x 9 = 63\n",
      "8 x 1 = 8\n",
      "8 x 2 = 16\n",
      "8 x 3 = 24\n",
      "8 x 4 = 32\n",
      "8 x 5 = 40\n",
      "8 x 6 = 48\n",
      "8 x 7 = 56\n",
      "8 x 8 = 64\n",
      "8 x 9 = 72\n",
      "9 x 1 = 9\n",
      "9 x 2 = 18\n",
      "9 x 3 = 27\n",
      "9 x 4 = 36\n",
      "9 x 5 = 45\n",
      "9 x 6 = 54\n",
      "9 x 7 = 63\n",
      "9 x 8 = 72\n",
      "9 x 9 = 81\n"
     ]
    }
   ],
   "source": [
    "# 구구단 2단 코딩\n",
    "# 2 x 1 = 2\n",
    "# 2 x 2 = 4\n",
    "# 2 x 3 = 6\n",
    "# ...\n",
    "# 2 x 9 = 18\n",
    "for j in range(2, 9+1):\n",
    "    for i in range(1, 9+1):\n",
    "        print(f'{j} x {i} = {j*i}')"
   ]
  },
  {
   "cell_type": "code",
   "execution_count": 477,
   "id": "1d327854-0fc0-4bc2-8c02-ef11e8f872ac",
   "metadata": {},
   "outputs": [
    {
     "name": "stdout",
     "output_type": "stream",
     "text": [
      "1\n"
     ]
    }
   ],
   "source": [
    "list7 = [12, 27, 1, 33, 5, 9]\n",
    "# list7에서 가장 작은 값을 min_value에 저장 후 출력!!\n",
    "min_value = list7[0]\n",
    "for value in list7:\n",
    "    if value < min_value:\n",
    "        min_value = value\n",
    "print(min_value)"
   ]
  },
  {
   "cell_type": "code",
   "execution_count": 482,
   "id": "bad2b409-05dd-4a26-b95d-8979c7481899",
   "metadata": {},
   "outputs": [
    {
     "name": "stdout",
     "output_type": "stream",
     "text": [
      "1 2 3 4 6 12 "
     ]
    }
   ],
   "source": [
    "for i in range(1, 12+1):\n",
    "    if 12 % i ==0:\n",
    "        print(i, end=' ')"
   ]
  },
  {
   "cell_type": "code",
   "execution_count": 489,
   "id": "744fcb6d-5320-4662-96ec-8e1182b01685",
   "metadata": {
    "collapsed": true,
    "jupyter": {
     "outputs_hidden": true
    }
   },
   "outputs": [
    {
     "ename": "KeyboardInterrupt",
     "evalue": "Interrupted by user",
     "output_type": "error",
     "traceback": [
      "\u001b[1;31m---------------------------------------------------------------------------\u001b[0m",
      "\u001b[1;31mKeyboardInterrupt\u001b[0m                         Traceback (most recent call last)",
      "Cell \u001b[1;32mIn[489], line 7\u001b[0m\n\u001b[0;32m      1\u001b[0m \u001b[38;5;66;03m# 사용자로부터 정수를 입력 받아\u001b[39;00m\n\u001b[0;32m      2\u001b[0m \u001b[38;5;66;03m# 예를 들어, 12\u001b[39;00m\n\u001b[0;32m      3\u001b[0m \u001b[38;5;66;03m# 정수의 약수를 출력!!\u001b[39;00m\n\u001b[0;32m      4\u001b[0m \u001b[38;5;66;03m# '정수 입력 >>'\u001b[39;00m\n\u001b[0;32m      5\u001b[0m \u001b[38;5;66;03m# 12의 약수 : 1 2 3 4 6 12\u001b[39;00m\n\u001b[1;32m----> 7\u001b[0m input_int \u001b[38;5;241m=\u001b[39m \u001b[38;5;28mint\u001b[39m(\u001b[38;5;28;43minput\u001b[39;49m\u001b[43m(\u001b[49m\u001b[38;5;124;43m'\u001b[39;49m\u001b[38;5;124;43m정수를 입력 : \u001b[39;49m\u001b[38;5;124;43m'\u001b[39;49m\u001b[43m)\u001b[49m)\n\u001b[0;32m      8\u001b[0m \u001b[38;5;28mprint\u001b[39m(\u001b[38;5;124mf\u001b[39m\u001b[38;5;124m'\u001b[39m\u001b[38;5;132;01m{\u001b[39;00minput_int\u001b[38;5;132;01m}\u001b[39;00m\u001b[38;5;124m의 약수 :\u001b[39m\u001b[38;5;124m'\u001b[39m, end\u001b[38;5;241m=\u001b[39m\u001b[38;5;124m'\u001b[39m\u001b[38;5;124m \u001b[39m\u001b[38;5;124m'\u001b[39m)\n\u001b[0;32m      9\u001b[0m \u001b[38;5;28;01mfor\u001b[39;00m i \u001b[38;5;129;01min\u001b[39;00m \u001b[38;5;28mrange\u001b[39m(\u001b[38;5;241m1\u001b[39m, input_int \u001b[38;5;241m/\u001b[39m\u001b[38;5;241m/\u001b[39m \u001b[38;5;241m2\u001b[39m \u001b[38;5;241m+\u001b[39m \u001b[38;5;241m1\u001b[39m):\n",
      "File \u001b[1;32mC:\\ProgramData\\anaconda3\\envs\\myenv\\Lib\\site-packages\\ipykernel\\kernelbase.py:1282\u001b[0m, in \u001b[0;36mKernel.raw_input\u001b[1;34m(self, prompt)\u001b[0m\n\u001b[0;32m   1280\u001b[0m     msg \u001b[38;5;241m=\u001b[39m \u001b[38;5;124m\"\u001b[39m\u001b[38;5;124mraw_input was called, but this frontend does not support input requests.\u001b[39m\u001b[38;5;124m\"\u001b[39m\n\u001b[0;32m   1281\u001b[0m     \u001b[38;5;28;01mraise\u001b[39;00m StdinNotImplementedError(msg)\n\u001b[1;32m-> 1282\u001b[0m \u001b[38;5;28;01mreturn\u001b[39;00m \u001b[38;5;28;43mself\u001b[39;49m\u001b[38;5;241;43m.\u001b[39;49m\u001b[43m_input_request\u001b[49m\u001b[43m(\u001b[49m\n\u001b[0;32m   1283\u001b[0m \u001b[43m    \u001b[49m\u001b[38;5;28;43mstr\u001b[39;49m\u001b[43m(\u001b[49m\u001b[43mprompt\u001b[49m\u001b[43m)\u001b[49m\u001b[43m,\u001b[49m\n\u001b[0;32m   1284\u001b[0m \u001b[43m    \u001b[49m\u001b[38;5;28;43mself\u001b[39;49m\u001b[38;5;241;43m.\u001b[39;49m\u001b[43m_parent_ident\u001b[49m\u001b[43m[\u001b[49m\u001b[38;5;124;43m\"\u001b[39;49m\u001b[38;5;124;43mshell\u001b[39;49m\u001b[38;5;124;43m\"\u001b[39;49m\u001b[43m]\u001b[49m\u001b[43m,\u001b[49m\n\u001b[0;32m   1285\u001b[0m \u001b[43m    \u001b[49m\u001b[38;5;28;43mself\u001b[39;49m\u001b[38;5;241;43m.\u001b[39;49m\u001b[43mget_parent\u001b[49m\u001b[43m(\u001b[49m\u001b[38;5;124;43m\"\u001b[39;49m\u001b[38;5;124;43mshell\u001b[39;49m\u001b[38;5;124;43m\"\u001b[39;49m\u001b[43m)\u001b[49m\u001b[43m,\u001b[49m\n\u001b[0;32m   1286\u001b[0m \u001b[43m    \u001b[49m\u001b[43mpassword\u001b[49m\u001b[38;5;241;43m=\u001b[39;49m\u001b[38;5;28;43;01mFalse\u001b[39;49;00m\u001b[43m,\u001b[49m\n\u001b[0;32m   1287\u001b[0m \u001b[43m\u001b[49m\u001b[43m)\u001b[49m\n",
      "File \u001b[1;32mC:\\ProgramData\\anaconda3\\envs\\myenv\\Lib\\site-packages\\ipykernel\\kernelbase.py:1325\u001b[0m, in \u001b[0;36mKernel._input_request\u001b[1;34m(self, prompt, ident, parent, password)\u001b[0m\n\u001b[0;32m   1322\u001b[0m \u001b[38;5;28;01mexcept\u001b[39;00m \u001b[38;5;167;01mKeyboardInterrupt\u001b[39;00m:\n\u001b[0;32m   1323\u001b[0m     \u001b[38;5;66;03m# re-raise KeyboardInterrupt, to truncate traceback\u001b[39;00m\n\u001b[0;32m   1324\u001b[0m     msg \u001b[38;5;241m=\u001b[39m \u001b[38;5;124m\"\u001b[39m\u001b[38;5;124mInterrupted by user\u001b[39m\u001b[38;5;124m\"\u001b[39m\n\u001b[1;32m-> 1325\u001b[0m     \u001b[38;5;28;01mraise\u001b[39;00m \u001b[38;5;167;01mKeyboardInterrupt\u001b[39;00m(msg) \u001b[38;5;28;01mfrom\u001b[39;00m\u001b[38;5;250m \u001b[39m\u001b[38;5;28;01mNone\u001b[39;00m\n\u001b[0;32m   1326\u001b[0m \u001b[38;5;28;01mexcept\u001b[39;00m \u001b[38;5;167;01mException\u001b[39;00m:\n\u001b[0;32m   1327\u001b[0m     \u001b[38;5;28mself\u001b[39m\u001b[38;5;241m.\u001b[39mlog\u001b[38;5;241m.\u001b[39mwarning(\u001b[38;5;124m\"\u001b[39m\u001b[38;5;124mInvalid Message:\u001b[39m\u001b[38;5;124m\"\u001b[39m, exc_info\u001b[38;5;241m=\u001b[39m\u001b[38;5;28;01mTrue\u001b[39;00m)\n",
      "\u001b[1;31mKeyboardInterrupt\u001b[0m: Interrupted by user"
     ]
    }
   ],
   "source": [
    "# 사용자로부터 정수를 입력 받아\n",
    "# 예를 들어, 12\n",
    "# 정수의 약수를 출력!!\n",
    "# '정수 입력 >>'\n",
    "# 12의 약수 : 1 2 3 4 6 12\n",
    "\n",
    "input_int = int(input('정수를 입력 : '))\n",
    "print(f'{input_int}의 약수 :', end=' ')\n",
    "for i in range(1, input_int // 2 + 1):\n",
    "    if input_int % i == 0:\n",
    "        print(i, end=' ')\n",
    "print(input_int)"
   ]
  },
  {
   "cell_type": "code",
   "execution_count": 514,
   "id": "33664930-9365-401b-b081-8c48071d405a",
   "metadata": {},
   "outputs": [
    {
     "name": "stdout",
     "output_type": "stream",
     "text": [
      "{'name': '배정수', 'age': 28, 'mbti': 'INFJ'}\n",
      "{'name': '김영식', 'age': 40, 'mbti': 'CUTE'}\n",
      "{'member1': {'name': '배정수', 'age': 28, 'mbti': 'INFJ'}, 'member2': {'name': '김영식', 'age': 40, 'mbti': 'CUTE'}}\n"
     ]
    }
   ],
   "source": [
    "member = {\"name\":\"배정수\", \"age\":28, \"mbti\":\"INFJ\"}\n",
    "member2 = {\"name\":\"김영식\", \"age\":40, \"mbti\":\"CUTE\"}\n",
    "print(member)\n",
    "print(member2)\n",
    "info = {\"member1\" : member, \"member2\" : member2}\n",
    "print(info)"
   ]
  },
  {
   "cell_type": "code",
   "execution_count": 516,
   "id": "198a48f2-c066-40a7-80d1-6b122eb0d919",
   "metadata": {},
   "outputs": [
    {
     "data": {
      "text/plain": [
       "34.0"
      ]
     },
     "execution_count": 516,
     "metadata": {},
     "output_type": "execute_result"
    }
   ],
   "source": [
    "# info 첫 번째 사람의 이름 출력!!\n",
    "# info['키값']\n",
    "info['member1']['name']\n",
    "\n",
    "# info에 있는 사람들의 나이 평균을 출력!!\n",
    "(info['member1']['age'] + info['member2']['age']) /2"
   ]
  },
  {
   "cell_type": "code",
   "execution_count": 519,
   "id": "6f48801b-d5d5-4a1f-beea-cbcb51e7602b",
   "metadata": {},
   "outputs": [
    {
     "name": "stdout",
     "output_type": "stream",
     "text": [
      "dict_keys(['member1', 'member2'])\n",
      "dict_values([{'name': '배정수', 'age': 28, 'mbti': 'INFJ'}, {'name': '김영식', 'age': 40, 'mbti': 'CUTE'}])\n",
      "dict_items([('member1', {'name': '배정수', 'age': 28, 'mbti': 'INFJ'}), ('member2', {'name': '김영식', 'age': 40, 'mbti': 'CUTE'})])\n"
     ]
    }
   ],
   "source": [
    "print(info.keys())\n",
    "print(info.values())\n",
    "print(info.items())"
   ]
  },
  {
   "cell_type": "code",
   "execution_count": 531,
   "id": "8dcdeca5-1be6-4012-8f10-57baf2bf4fec",
   "metadata": {},
   "outputs": [
    {
     "name": "stdout",
     "output_type": "stream",
     "text": [
      "평균 :  33.333333333333336\n"
     ]
    }
   ],
   "source": [
    "add = 0\n",
    "cnt = 0\n",
    "for _, value in info.items():\n",
    "    cnt += 1\n",
    "    add += value['age']\n",
    "\n",
    "print('평균 : ', add / cnt)"
   ]
  },
  {
   "cell_type": "code",
   "execution_count": 530,
   "id": "2d9f09a0-f7d6-47ce-9b38-ef517d593baa",
   "metadata": {},
   "outputs": [
    {
     "data": {
      "text/plain": [
       "{'member1': {'name': '배정수', 'age': 28, 'mbti': 'INFJ'},\n",
       " 'member2': {'name': '김영식', 'age': 40, 'mbti': 'CUTE'},\n",
       " 'member3': {'name': '수지', 'age': 32, 'mbti': 'ISTP'}}"
      ]
     },
     "execution_count": 530,
     "metadata": {},
     "output_type": "execute_result"
    }
   ],
   "source": [
    "info[\"member3\"] = {\"name\":\"수지\", \"age\":32, \"mbti\":\"ISTP\"}\n",
    "info"
   ]
  },
  {
   "cell_type": "code",
   "execution_count": 537,
   "id": "93e057ee-bf04-4baf-b22c-06e964109a6a",
   "metadata": {},
   "outputs": [],
   "source": [
    "# 라이브러리 설치방법\n",
    "# !pip install requests"
   ]
  },
  {
   "cell_type": "code",
   "execution_count": 568,
   "id": "137d2bb5-e8b8-447e-ad4c-ac06266093a4",
   "metadata": {},
   "outputs": [
    {
     "name": "stdout",
     "output_type": "stream",
     "text": [
      "날짜를 입력하세요 20250113\n"
     ]
    },
    {
     "name": "stdout",
     "output_type": "stream",
     "text": [
      "1위 : 하얼빈\n",
      "2위 : 소방관\n",
      "3위 : 동화지만 청불입니다\n",
      "4위 : 보고타: 마지막 기회의 땅\n",
      "5위 : 극장판 짱구는 못말려: 우리들의 공룡일기\n",
      "6위 : 수퍼 소닉3\n",
      "7위 : 위키드\n",
      "8위 : 서브스턴스\n",
      "9위 : 뽀로로 극장판 바닷속 대모험\n",
      "10위 : 모아나 2\n"
     ]
    }
   ],
   "source": [
    "import requests\n",
    "# req\n",
    "# requests.get('요청 URL 주소')\n",
    "date = input('날짜를 입력하세요')\n",
    "response = requests.get(f'https://kobis.or.kr/kobisopenapi/webservice/rest/boxoffice/searchDailyBoxOfficeList.json?key=83d538064566d731450ec7fd92cc033b&targetDt={date}')\n",
    "result = response.json()\n",
    "day = result[\"boxOfficeResult\"][\"showRange\"]\n",
    "today = day.split('~')[0] # 오늘 날짜\n",
    "# 2025년 01월 13일 기준 \n",
    "# 박스오피스 순위 1 ~ 10위\n",
    "# 영화 출력\n",
    "# 2025년 01월 13일 기준 \n",
    "# 1위 : 하얼빈\n",
    "# 2위 : 소방관\n",
    "# ...\n",
    "# 10위 : 모아나2\n",
    "for i in range(len(result[\"boxOfficeResult\"][\"dailyBoxOfficeList\"])):\n",
    "    rank = result[\"boxOfficeResult\"][\"dailyBoxOfficeList\"][i][\"rank\"]\n",
    "    movieNm = result[\"boxOfficeResult\"][\"dailyBoxOfficeList\"][i][\"movieNm\"]\n",
    "    # 1위 : 하얼빈\n",
    "    print(f'{rank}위 : {movieNm}')\n"
   ]
  },
  {
   "cell_type": "markdown",
   "id": "00aff7b3-eddc-4ebb-93c7-caabf28d6365",
   "metadata": {},
   "source": [
    "# 함수"
   ]
  },
  {
   "cell_type": "code",
   "execution_count": 578,
   "id": "6baa3a59-0a89-4d3c-8b44-a02b8c761a95",
   "metadata": {},
   "outputs": [
    {
     "name": "stdout",
     "output_type": "stream",
     "text": [
      "8\n",
      "6\n"
     ]
    },
    {
     "ename": "TypeError",
     "evalue": "Random.randrange() missing 1 required positional argument: 'start'",
     "output_type": "error",
     "traceback": [
      "\u001b[1;31m---------------------------------------------------------------------------\u001b[0m",
      "\u001b[1;31mTypeError\u001b[0m                                 Traceback (most recent call last)",
      "Cell \u001b[1;32mIn[578], line 20\u001b[0m\n\u001b[0;32m     17\u001b[0m \u001b[38;5;28mprint\u001b[39m(addNumber(\u001b[38;5;241m3\u001b[39m, \u001b[38;5;241m5\u001b[39m))\n\u001b[0;32m     18\u001b[0m \u001b[38;5;28mprint\u001b[39m(addNumber(\u001b[38;5;241m1\u001b[39m, \u001b[38;5;241m2\u001b[39m, \u001b[38;5;241m3\u001b[39m))\n\u001b[1;32m---> 20\u001b[0m \u001b[43mrandom\u001b[49m\u001b[38;5;241;43m.\u001b[39;49m\u001b[43mrandrange\u001b[49m\u001b[43m(\u001b[49m\u001b[43m)\u001b[49m\n",
      "\u001b[1;31mTypeError\u001b[0m: Random.randrange() missing 1 required positional argument: 'start'"
     ]
    }
   ],
   "source": [
    "# def 함수이름(매개변수):\n",
    "#     return 반환값\n",
    "# def addNumber(num1, num2):\n",
    "#     return num1 + num2\n",
    "\n",
    "# addNumber(3, 5)\n",
    "\n",
    "# def addNumber(num1, num2, num3):\n",
    "#     return num1 + num2 + num3\n",
    "\n",
    "def addNumber(*num):\n",
    "    # 가변 매개변수 데이터 타입 : tuple\n",
    "    add = 0\n",
    "    for n in num:\n",
    "        add += n\n",
    "    return add\n",
    "print(addNumber(3, 5))\n",
    "print(addNumber(1, 2, 3))\n",
    "\n",
    "random.randrange()"
   ]
  },
  {
   "cell_type": "code",
   "execution_count": 588,
   "id": "96f002d8-550b-4f2d-bea0-c742e2d76a93",
   "metadata": {},
   "outputs": [
    {
     "name": "stdout",
     "output_type": "stream",
     "text": [
      "3\n",
      "맑음\n"
     ]
    },
    {
     "data": {
      "text/plain": [
       "-1"
      ]
     },
     "execution_count": 588,
     "metadata": {},
     "output_type": "execute_result"
    }
   ],
   "source": [
    "def todayWeather(time:int=12) -> int:\n",
    "    \"\"\"함수 설명란\"\"\"\n",
    "    print(time)\n",
    "    print('맑음')\n",
    "    return -1\n",
    "\n",
    "todayWeather(3)"
   ]
  },
  {
   "cell_type": "code",
   "execution_count": null,
   "id": "38c7e927-cd68-4445-86ba-8a12721cd8b5",
   "metadata": {},
   "outputs": [],
   "source": [
    "def cal(num1, num2):\n",
    "    return num1 + num2, num1 -num2\n",
    "\n",
    "cal(5, 3)"
   ]
  }
 ],
 "metadata": {
  "kernelspec": {
   "display_name": "Python 3 (ipykernel)",
   "language": "python",
   "name": "python3"
  },
  "language_info": {
   "codemirror_mode": {
    "name": "ipython",
    "version": 3
   },
   "file_extension": ".py",
   "mimetype": "text/x-python",
   "name": "python",
   "nbconvert_exporter": "python",
   "pygments_lexer": "ipython3",
   "version": "3.12.8"
  }
 },
 "nbformat": 4,
 "nbformat_minor": 5
}
