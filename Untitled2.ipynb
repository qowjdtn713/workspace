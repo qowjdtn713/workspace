{
 "cells": [
  {
   "cell_type": "markdown",
   "id": "2cbc3884-b538-48ad-85bb-004fd2b316b8",
   "metadata": {},
   "source": [
    "# 웹 프레임워크"
   ]
  },
  {
   "cell_type": "code",
   "execution_count": null,
   "id": "6961a114-cc5c-4c66-b606-de8ca2125717",
   "metadata": {},
   "outputs": [],
   "source": [
    "!pip3 install flask"
   ]
  },
  {
   "cell_type": "code",
   "execution_count": 1,
   "id": "27891723-bd50-48bf-a4cf-ce7d5623e61a",
   "metadata": {
    "scrolled": true
   },
   "outputs": [
    {
     "name": "stdout",
     "output_type": "stream",
     "text": [
      " * Serving Flask app '__main__'\n",
      " * Debug mode: off\n"
     ]
    },
    {
     "name": "stderr",
     "output_type": "stream",
     "text": [
      "WARNING: This is a development server. Do not use it in a production deployment. Use a production WSGI server instead.\n",
      " * Running on http://192.168.0.26:5000\n",
      "Press CTRL+C to quit\n",
      "192.168.0.26 - - [14/Jan/2025 16:11:54] \"GET /test HTTP/1.1\" 200 -\n"
     ]
    }
   ],
   "source": [
    "# Flask : python 기반 마이크로 웹 프레임워크\n",
    "# 대문자면 클래스 소문자면 함수\n",
    "from flask import Flask, request, render_template\n",
    "\n",
    "# from python파일 import 클래스or함수\n",
    "# Flask class로부터 생성된 인스턴스를 변수 app에 저장\n",
    "# __name__ : 내장 매개변수\n",
    "app = Flask(__name__)\n",
    "\n",
    "# render_template\n",
    "# html 문서를 load\n",
    "# 단, 현재 run되고 있는 python 경로 기준\n",
    "# templates 폴더 내 문서만 load 가능\n",
    "# 현재 경로 확인 -> View 메뉴\n",
    "\n",
    "@app.route('/test')\n",
    "def test():\n",
    "    return render_template('home.html')\n",
    "\n",
    "@app.route('/')\n",
    "def home():\n",
    "    return '<h1>안녕하세요 배정수의 웹 페이지입니다.</h1>'\n",
    "\n",
    "@app.route('/welcome')\n",
    "def welcome():\n",
    "    ip = request.remote_addr # 접속 ip 정보를 받아오는 속성\n",
    "    if ip == '192.168.0.27':\n",
    "        return '이하이가 인사하면 하이'\n",
    "    \n",
    "    return '와주셔서 땡큐'\n",
    "\n",
    "if __name__ == '__main__':\n",
    "    app.run(host='192.168.0.26')"
   ]
  },
  {
   "cell_type": "code",
   "execution_count": null,
   "id": "4438daae-2dba-4a17-a649-ee9e65a53d29",
   "metadata": {},
   "outputs": [],
   "source": []
  }
 ],
 "metadata": {
  "kernelspec": {
   "display_name": "Python 3 (ipykernel)",
   "language": "python",
   "name": "python3"
  },
  "language_info": {
   "codemirror_mode": {
    "name": "ipython",
    "version": 3
   },
   "file_extension": ".py",
   "mimetype": "text/x-python",
   "name": "python",
   "nbconvert_exporter": "python",
   "pygments_lexer": "ipython3",
   "version": "3.12.8"
  }
 },
 "nbformat": 4,
 "nbformat_minor": 5
}
