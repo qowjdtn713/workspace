{
 "cells": [
  {
   "cell_type": "code",
   "execution_count": 7,
   "id": "7fb9620b-de8d-4f0c-be3b-0796a2f99e87",
   "metadata": {},
   "outputs": [
    {
     "name": "stdout",
     "output_type": "stream",
     "text": [
      "3\n"
     ]
    }
   ],
   "source": [
    "num = 3;\n",
    "print(num)"
   ]
  },
  {
   "cell_type": "code",
   "execution_count": 9,
   "id": "40233e84-8678-4491-9f00-c613978373a0",
   "metadata": {},
   "outputs": [
    {
     "name": "stdout",
     "output_type": "stream",
     "text": [
      "13 77 77\n"
     ]
    }
   ],
   "source": [
    "num1 = 13\n",
    "num2 = 25\n",
    "num2 = 77\n",
    "print(num1,num2,num2)"
   ]
  },
  {
   "cell_type": "code",
   "execution_count": 12,
   "id": "50d94fdb-b4f2-4a6f-91b8-9b6d155448fc",
   "metadata": {},
   "outputs": [
    {
     "name": "stdout",
     "output_type": "stream",
     "text": [
      "3.1425 1.25 3.0\n"
     ]
    }
   ],
   "source": [
    "num3 = 3.1425\n",
    "num4 = 1.25\n",
    "num5 = 3.0\n",
    "print(num3, num4, num5)"
   ]
  },
  {
   "cell_type": "markdown",
   "id": "f21a4e3d-2b2c-4e32-97f3-885e0577dba4",
   "metadata": {},
   "source": [
    "# 주석입니다"
   ]
  },
  {
   "cell_type": "code",
   "execution_count": 16,
   "id": "c24f972d-ccda-44e8-84a1-927c5534609b",
   "metadata": {},
   "outputs": [
    {
     "name": "stdout",
     "output_type": "stream",
     "text": [
      "Funny Python\n",
      "Easy Python\n"
     ]
    }
   ],
   "source": [
    "str1 = 'Funny Python'\n",
    "str2 = \"Easy Python\"\n",
    "print(str1)\n",
    "print(str2)\n"
   ]
  },
  {
   "cell_type": "code",
   "execution_count": 19,
   "id": "a778f2db-356a-4704-9515-a6106c677856",
   "metadata": {},
   "outputs": [
    {
     "name": "stdout",
     "output_type": "stream",
     "text": [
      "['False', 'None', 'True', 'and', 'as', 'assert', 'async', 'await', 'break', 'class', 'continue', 'def', 'del', 'elif', 'else', 'except', 'finally', 'for', 'from', 'global', 'if', 'import', 'in', 'is', 'lambda', 'nonlocal', 'not', 'or', 'pass', 'raise', 'return', 'try', 'while', 'with', 'yield']\n"
     ]
    }
   ],
   "source": [
    "from keyword import kwlist\n",
    "print(kwlist)"
   ]
  },
  {
   "cell_type": "code",
   "execution_count": 21,
   "id": "64ed3fc9-87e8-4893-af8f-5e9094ff776e",
   "metadata": {},
   "outputs": [
    {
     "name": "stdout",
     "output_type": "stream",
     "text": [
      "25\n",
      "10\n"
     ]
    }
   ],
   "source": [
    "a=10\n",
    "b=25\n",
    "a,b = b,a\n",
    "print(a)\n",
    "print(b)"
   ]
  },
  {
   "cell_type": "code",
   "execution_count": 24,
   "id": "8228142a-fac0-4e2f-8368-fee68253d53f",
   "metadata": {},
   "outputs": [
    {
     "name": "stdout",
     "output_type": "stream",
     "text": [
      "300\n"
     ]
    }
   ],
   "source": [
    "x = 100\n",
    "y = 200\n",
    "total = x + y\n",
    "print(total)\n"
   ]
  },
  {
   "cell_type": "code",
   "execution_count": 29,
   "id": "07b89e00-e6e4-4725-ad47-cf9caad14ee3",
   "metadata": {},
   "outputs": [
    {
     "name": "stdout",
     "output_type": "stream",
     "text": [
      "she's gone\n",
      "she's gone\n"
     ]
    }
   ],
   "source": [
    "s1 = \"she's gone\"\n",
    "s2 = 'she\\'s gone'\n",
    "print(s1)\n",
    "print(s2)"
   ]
  },
  {
   "cell_type": "code",
   "execution_count": 82,
   "id": "6ef4e0b9-fdc0-449a-8e95-1e5055cd6c32",
   "metadata": {},
   "outputs": [
    {
     "name": "stdout",
     "output_type": "stream",
     "text": [
      "M\n",
      "J\n",
      "S\n",
      "name\n",
      "------\n",
      "name\n",
      "JS\n",
      "is\n",
      "My name is JS\n"
     ]
    }
   ],
   "source": [
    "#인덱스 번호를 통해서 문자를 가져올 수 있음. \"인덱싱\"이라고 함\n",
    "name = 'My name is JS'\n",
    "print(name[0])\n",
    "print(name[11])\n",
    "print(name[-1])\n",
    "print(name[3], end='')\n",
    "print(name[4], end='')\n",
    "print(name[5], end='')\n",
    "print(name[6])\n",
    "print(\"------\")\n",
    "# 3이상 7미만을 의미\n",
    "# 슬라이싱\n",
    "print(name[3:7])\n",
    "print(name[-2:])\n",
    "print(name[8:10])\n",
    "print(name[:])"
   ]
  },
  {
   "cell_type": "code",
   "execution_count": 87,
   "id": "0c9700e2-1035-4705-8885-c843d49ac3bb",
   "metadata": {},
   "outputs": [
    {
     "name": "stdout",
     "output_type": "stream",
     "text": [
      "연도 : 2025\n",
      "날짜 : 0113\n",
      "날씨 : warm\n"
     ]
    }
   ],
   "source": [
    "date_info = '20250113warm'\n",
    "year = date_info[:4] #아무것도 없으면 0을 의미\n",
    "day = date_info[4:8]\n",
    "weather = date_info[8:] #아무것도 없으면 맨 끝을 의미\n",
    "print('연도 :',year)\n",
    "print('날짜 :',day)\n",
    "print ('날씨 :',weather)"
   ]
  },
  {
   "cell_type": "code",
   "execution_count": 107,
   "id": "51449d58-c113-4e60-a6f3-3e97cc26db1c",
   "metadata": {},
   "outputs": [
    {
     "name": "stdout",
     "output_type": "stream",
     "text": [
      "오늘은 1월 13일입니다\n"
     ]
    }
   ],
   "source": [
    "day = 13\n",
    "s8 = '오늘은 1월 %d일입니다' %day\n",
    "print(s8)"
   ]
  },
  {
   "cell_type": "code",
   "execution_count": 109,
   "id": "4ca607d1-9234-451b-8d76-327b2d8080ec",
   "metadata": {},
   "outputs": [
    {
     "name": "stdout",
     "output_type": "stream",
     "text": [
      "오늘은 1월 13일입니다\n"
     ]
    }
   ],
   "source": [
    "month = 1\n",
    "day = 13\n",
    "s9 = '오늘은 {1}월 {0}일입니다'.format(day,month)\n",
    "print(s9)"
   ]
  },
  {
   "cell_type": "code",
   "execution_count": 112,
   "id": "cf94475a-46ee-41aa-afcd-f6be2f7f6500",
   "metadata": {},
   "outputs": [
    {
     "name": "stdout",
     "output_type": "stream",
     "text": [
      "오늘은 1월 13일입니다\n"
     ]
    }
   ],
   "source": [
    "month = 1\n",
    "day = 13\n",
    "s10 = f'오늘은 {month}월 {day}일입니다'\n",
    "print(s10)"
   ]
  },
  {
   "cell_type": "code",
   "execution_count": 119,
   "id": "069db3ac-4c6a-4700-af39-58952bafb04c",
   "metadata": {},
   "outputs": [
    {
     "name": "stdout",
     "output_type": "stream",
     "text": [
      "100와 200의 합은 300입니다\n",
      "  100과 200의 합은 300입니다\n"
     ]
    }
   ],
   "source": [
    "x = 100\n",
    "y = 200\n",
    "total = x + y\n",
    "print(f'{x}와 {y}의 합은 {total}입니다')\n",
    "print('%5d과 %d의 합은 %d입니다'%(x,y,total))"
   ]
  },
  {
   "cell_type": "code",
   "execution_count": 126,
   "id": "3b4925bf-0210-4e7f-8e05-ae75bd79b0cb",
   "metadata": {},
   "outputs": [
    {
     "name": "stdout",
     "output_type": "stream",
     "text": [
      "17\n"
     ]
    }
   ],
   "source": [
    "num1 = 10\n",
    "str2 = \"7\"\n",
    "#형 변환\n",
    "print(num1 + int(str2))"
   ]
  },
  {
   "cell_type": "code",
   "execution_count": 142,
   "id": "e2201e81-fb6b-4de6-bbb3-a15de9f7f1aa",
   "metadata": {},
   "outputs": [
    {
     "name": "stdout",
     "output_type": "stream",
     "text": [
      "더하기 결과 : 26\n",
      "빼기 결과 : 26\n",
      "곱하기 결과 : 69\n",
      "나누기 결과 : 7.666666666666667\n"
     ]
    }
   ],
   "source": [
    "num1 = 23\n",
    "num2 = 3\n",
    "print(\"더하기 결과 :\", num1 + num2)\n",
    "print(\"빼기 결과 : %d\"%(num1+num2))\n",
    "print(\"곱하기 결과 : {}\".format(num1 * num2))\n",
    "print(f\"나누기 결과 : {num1 / num2}\")"
   ]
  },
  {
   "cell_type": "code",
   "execution_count": 154,
   "id": "06e131d2-a028-4c24-918e-bf3ab7280c9c",
   "metadata": {},
   "outputs": [
    {
     "name": "stdout",
     "output_type": "stream",
     "text": [
      "정수를 하나 입력해주세요 :  1\n"
     ]
    },
    {
     "name": "stdout",
     "output_type": "stream",
     "text": [
      "당신이 입력한 값 : 2\n"
     ]
    }
   ],
   "source": [
    "num = int(input('정수를 하나 입력해주세요 : '))\n",
    "print('당신이 입력한 값 :', num + 1)"
   ]
  },
  {
   "cell_type": "code",
   "execution_count": 158,
   "id": "4d9fbfe0-0a16-4dd8-86fb-7c6e115fda24",
   "metadata": {},
   "outputs": [
    {
     "name": "stdout",
     "output_type": "stream",
     "text": [
      "첫번째 정수를 입력해주세요 :  1\n",
      "두번째 정수를 입력해주세요 :  2\n"
     ]
    },
    {
     "name": "stdout",
     "output_type": "stream",
     "text": [
      "더하기 결과 : 3\n",
      "빼기 결과 : -1\n",
      "곱하기 결과 : 2\n",
      "나누기 결과 : 0.5\n"
     ]
    }
   ],
   "source": [
    "num1= int(input('첫번째 정수를 입력해주세요 : '))\n",
    "num2= int(input('두번째 정수를 입력해주세요 : '))\n",
    "print('더하기 결과 :', num1 + num2)\n",
    "print('빼기 결과 : %d'%(num1 - num2))\n",
    "print('곱하기 결과 : {}'.format(num1 * num2))\n",
    "print(f'나누기 결과 : {num1 / num2}')"
   ]
  },
  {
   "cell_type": "code",
   "execution_count": 159,
   "id": "c856a9c2-64dd-464c-8b2e-06e0179fadd2",
   "metadata": {},
   "outputs": [],
   "source": [
    "money = 36000\n",
    "won_10000 = money // 10000 # 3\n",
    "won_5000 = money % 10000 // 5000 # 1\n",
    "won_1000 = money % 5000 // 1000 # 1\n",
    "won_500 = money % 1000 // 500 # 1\n",
    "won_100 = money % 500 // 100 # 3"
   ]
  },
  {
   "cell_type": "code",
   "execution_count": 166,
   "id": "3d8616d4-6c35-4b55-bb1f-031c9ed689ba",
   "metadata": {},
   "outputs": [
    {
     "name": "stdout",
     "output_type": "stream",
     "text": [
      "시간 입력 >>  123\n"
     ]
    },
    {
     "name": "stdout",
     "output_type": "stream",
     "text": [
      "0시간 2분 3초\n"
     ]
    }
   ],
   "source": [
    "time = int(input(\"시간 입력 >> \"))\n",
    "hour = time // (60 * 60)\n",
    "minute = time % (60 * 60) // 60 \n",
    "second = time % 60\n",
    "print(\"{}시간 {}분 {}초\".format(hour, minute, second))"
   ]
  },
  {
   "cell_type": "code",
   "execution_count": 174,
   "id": "6ef58370-e542-4a9f-bfed-a361e7bf4176",
   "metadata": {},
   "outputs": [
    {
     "data": {
      "text/plain": [
       "30"
      ]
     },
     "execution_count": 174,
     "metadata": {},
     "output_type": "execute_result"
    }
   ],
   "source": [
    "num = 27\n",
    "num += 3\n",
    "num"
   ]
  },
  {
   "cell_type": "code",
   "execution_count": 186,
   "id": "de8f5eca-a1a6-4257-9c9b-b75955f9c8ea",
   "metadata": {},
   "outputs": [
    {
     "name": "stdout",
     "output_type": "stream",
     "text": [
      " 1\n"
     ]
    },
    {
     "name": "stdout",
     "output_type": "stream",
     "text": [
      "미성년자입니다\n"
     ]
    }
   ],
   "source": [
    "age = int(input())\n",
    "if age >= 20:\n",
    "    print('성인입니다')\n",
    "else:\n",
    "    print('미성년자입니다')"
   ]
  },
  {
   "cell_type": "code",
   "execution_count": 209,
   "id": "4fa8fa07-e9a8-4202-84ad-258737995280",
   "metadata": {},
   "outputs": [
    {
     "name": "stdout",
     "output_type": "stream",
     "text": [
      "정수 입력 >> 5\n"
     ]
    },
    {
     "name": "stdout",
     "output_type": "stream",
     "text": [
      "3과 5의 배수가 아닙니다.\n"
     ]
    }
   ],
   "source": [
    "num = int(input('정수 입력 >>'))\n",
    "if num % 3 == 0 and num % 5 == 0:\n",
    "    print('3과 5의 배수입니다')\n",
    "else:\n",
    "    print('3과 5의 배수가 아닙니다.')"
   ]
  },
  {
   "cell_type": "code",
   "execution_count": 226,
   "id": "8eda7fd5-dcd9-40bb-863c-307edd08c67d",
   "metadata": {},
   "outputs": [
    {
     "name": "stdout",
     "output_type": "stream",
     "text": [
      "첫번째 정수 입력 >> 4\n",
      "두번째 정수 입력 >> 4\n"
     ]
    },
    {
     "name": "stdout",
     "output_type": "stream",
     "text": [
      "두 정수가 같습니다.\n"
     ]
    }
   ],
   "source": [
    "num1 = int(input('첫번째 정수 입력 >>'))\n",
    "num2 = int(input('두번째 정수 입력 >>'))\n",
    "\n",
    "if num1 > num2:\n",
    "    print('첫 번째 정수가 더 큽니다.')\n",
    "elif num2 > num1:\n",
    "    print('두 번째 정수가 더 큽니다.')\n",
    "else:\n",
    "    print('두 정수가 같습니다.')\n",
    "    "
   ]
  }
 ],
 "metadata": {
  "kernelspec": {
   "display_name": "Python 3 (ipykernel)",
   "language": "python",
   "name": "python3"
  },
  "language_info": {
   "codemirror_mode": {
    "name": "ipython",
    "version": 3
   },
   "file_extension": ".py",
   "mimetype": "text/x-python",
   "name": "python",
   "nbconvert_exporter": "python",
   "pygments_lexer": "ipython3",
   "version": "3.12.8"
  }
 },
 "nbformat": 4,
 "nbformat_minor": 5
}
